{
 "cells": [
  {
   "cell_type": "markdown",
   "metadata": {},
   "source": [
    "# Belajar Pengembangan Machine Learning - Proyek Kedua : Membuat Model Machine Learning dengan Data Time Series"
   ]
  },
  {
   "cell_type": "markdown",
   "metadata": {},
   "source": [
    "## Data Diri\n",
    "\n",
    "Nama : Adi Bintang Pradana <br>\n",
    "Alamat : Jl. Budi Mulia No. 1, Jakarta <br>\n",
    "No. HP : 087784537428 <br>\n",
    "Email : adibintangprada@gmail.com"
   ]
  },
  {
   "cell_type": "markdown",
   "metadata": {},
   "source": [
    "## Import Library"
   ]
  },
  {
   "cell_type": "code",
   "execution_count": 48,
   "metadata": {},
   "outputs": [],
   "source": [
    "import numpy as np\n",
    "import pandas as pd\n",
    "import matplotlib.pyplot as plt\n",
    "import tensorflow as tf\n",
    "from tensorflow.python.keras.models import Sequential\n",
    "from tensorflow.python.keras.layers import Dense, LSTM, Flatten, GlobalAveragePooling2D, Conv2D, MaxPooling2D\n",
    "from tensorflow.python.keras.callbacks import ModelCheckpoint, EarlyStopping\n",
    "from tensorflow.python.keras import optimizer_v2"
   ]
  },
  {
   "cell_type": "markdown",
   "metadata": {},
   "source": [
    "## Load Dataset"
   ]
  },
  {
   "cell_type": "code",
   "execution_count": 49,
   "metadata": {},
   "outputs": [
    {
     "data": {
      "text/html": [
       "<div>\n",
       "<style scoped>\n",
       "    .dataframe tbody tr th:only-of-type {\n",
       "        vertical-align: middle;\n",
       "    }\n",
       "\n",
       "    .dataframe tbody tr th {\n",
       "        vertical-align: top;\n",
       "    }\n",
       "\n",
       "    .dataframe thead th {\n",
       "        text-align: right;\n",
       "    }\n",
       "</style>\n",
       "<table border=\"1\" class=\"dataframe\">\n",
       "  <thead>\n",
       "    <tr style=\"text-align: right;\">\n",
       "      <th></th>\n",
       "      <th>Date</th>\n",
       "      <th>Open</th>\n",
       "      <th>High</th>\n",
       "      <th>Low</th>\n",
       "      <th>Close</th>\n",
       "      <th>Adj Close</th>\n",
       "      <th>Volume</th>\n",
       "    </tr>\n",
       "  </thead>\n",
       "  <tbody>\n",
       "    <tr>\n",
       "      <th>0</th>\n",
       "      <td>2004-06-08</td>\n",
       "      <td>875.0</td>\n",
       "      <td>900.0</td>\n",
       "      <td>875.0</td>\n",
       "      <td>887.5</td>\n",
       "      <td>553.706055</td>\n",
       "      <td>99830000.0</td>\n",
       "    </tr>\n",
       "    <tr>\n",
       "      <th>1</th>\n",
       "      <td>2004-06-09</td>\n",
       "      <td>887.5</td>\n",
       "      <td>912.5</td>\n",
       "      <td>875.0</td>\n",
       "      <td>900.0</td>\n",
       "      <td>561.505005</td>\n",
       "      <td>58858000.0</td>\n",
       "    </tr>\n",
       "    <tr>\n",
       "      <th>2</th>\n",
       "      <td>2004-06-10</td>\n",
       "      <td>900.0</td>\n",
       "      <td>900.0</td>\n",
       "      <td>887.5</td>\n",
       "      <td>900.0</td>\n",
       "      <td>561.505005</td>\n",
       "      <td>33118000.0</td>\n",
       "    </tr>\n",
       "    <tr>\n",
       "      <th>3</th>\n",
       "      <td>2004-06-11</td>\n",
       "      <td>887.5</td>\n",
       "      <td>900.0</td>\n",
       "      <td>887.5</td>\n",
       "      <td>900.0</td>\n",
       "      <td>561.505005</td>\n",
       "      <td>27166000.0</td>\n",
       "    </tr>\n",
       "    <tr>\n",
       "      <th>4</th>\n",
       "      <td>2004-06-14</td>\n",
       "      <td>900.0</td>\n",
       "      <td>900.0</td>\n",
       "      <td>875.0</td>\n",
       "      <td>887.5</td>\n",
       "      <td>553.706055</td>\n",
       "      <td>31708000.0</td>\n",
       "    </tr>\n",
       "  </tbody>\n",
       "</table>\n",
       "</div>"
      ],
      "text/plain": [
       "         Date   Open   High    Low  Close   Adj Close      Volume\n",
       "0  2004-06-08  875.0  900.0  875.0  887.5  553.706055  99830000.0\n",
       "1  2004-06-09  887.5  912.5  875.0  900.0  561.505005  58858000.0\n",
       "2  2004-06-10  900.0  900.0  887.5  900.0  561.505005  33118000.0\n",
       "3  2004-06-11  887.5  900.0  887.5  900.0  561.505005  27166000.0\n",
       "4  2004-06-14  900.0  900.0  875.0  887.5  553.706055  31708000.0"
      ]
     },
     "execution_count": 49,
     "metadata": {},
     "output_type": "execute_result"
    }
   ],
   "source": [
    "df = pd.read_csv('BBCA.JK.csv')\n",
    "df.head()"
   ]
  },
  {
   "cell_type": "markdown",
   "metadata": {},
   "source": [
    "## Data Cleaning and Preprocessing"
   ]
  },
  {
   "cell_type": "markdown",
   "metadata": {},
   "source": [
    "### Handling Missing Value"
   ]
  },
  {
   "cell_type": "code",
   "execution_count": 50,
   "metadata": {},
   "outputs": [
    {
     "data": {
      "text/plain": [
       "Date         0\n",
       "Open         1\n",
       "High         1\n",
       "Low          1\n",
       "Close        1\n",
       "Adj Close    1\n",
       "Volume       1\n",
       "dtype: int64"
      ]
     },
     "execution_count": 50,
     "metadata": {},
     "output_type": "execute_result"
    }
   ],
   "source": [
    "df.isnull().sum()"
   ]
  },
  {
   "cell_type": "code",
   "execution_count": 51,
   "metadata": {},
   "outputs": [],
   "source": [
    "df.dropna(inplace=True)"
   ]
  },
  {
   "cell_type": "code",
   "execution_count": 52,
   "metadata": {},
   "outputs": [
    {
     "data": {
      "text/plain": [
       "Date         0\n",
       "Open         0\n",
       "High         0\n",
       "Low          0\n",
       "Close        0\n",
       "Adj Close    0\n",
       "Volume       0\n",
       "dtype: int64"
      ]
     },
     "execution_count": 52,
     "metadata": {},
     "output_type": "execute_result"
    }
   ],
   "source": [
    "df.isnull().sum()"
   ]
  },
  {
   "cell_type": "markdown",
   "metadata": {},
   "source": [
    "### Handling Inconsistent Data Type"
   ]
  },
  {
   "cell_type": "code",
   "execution_count": 53,
   "metadata": {},
   "outputs": [],
   "source": [
    "df['Date'] = pd.to_datetime(df['Date'])"
   ]
  },
  {
   "cell_type": "code",
   "execution_count": 54,
   "metadata": {},
   "outputs": [
    {
     "name": "stdout",
     "output_type": "stream",
     "text": [
      "<class 'pandas.core.frame.DataFrame'>\n",
      "Int64Index: 4244 entries, 0 to 4244\n",
      "Data columns (total 7 columns):\n",
      " #   Column     Non-Null Count  Dtype         \n",
      "---  ------     --------------  -----         \n",
      " 0   Date       4244 non-null   datetime64[ns]\n",
      " 1   Open       4244 non-null   float64       \n",
      " 2   High       4244 non-null   float64       \n",
      " 3   Low        4244 non-null   float64       \n",
      " 4   Close      4244 non-null   float64       \n",
      " 5   Adj Close  4244 non-null   float64       \n",
      " 6   Volume     4244 non-null   float64       \n",
      "dtypes: datetime64[ns](1), float64(6)\n",
      "memory usage: 265.2 KB\n"
     ]
    }
   ],
   "source": [
    "df.info()"
   ]
  },
  {
   "cell_type": "markdown",
   "metadata": {},
   "source": [
    "### Visualizing Target Data (BBCA Close Price)"
   ]
  },
  {
   "cell_type": "code",
   "execution_count": 55,
   "metadata": {},
   "outputs": [
    {
     "data": {
      "image/png": "[encoded data removed]",
      "text/plain": [
       "<Figure size 1080x360 with 1 Axes>"
      ]
     },
     "metadata": {
      "needs_background": "light"
     },
     "output_type": "display_data"
    }
   ],
   "source": [
    "dates = df['Date'].values\n",
    "close  = df['Close'].values\n",
    " \n",
    " \n",
    "plt.figure(figsize=(15,5))\n",
    "plt.plot(dates, close)\n",
    "plt.title('Close Price',\n",
    "          fontsize=20);"
   ]
  },
  {
   "cell_type": "markdown",
   "metadata": {},
   "source": [
    "### Generating Training Data (80% Training Data)"
   ]
  },
  {
   "cell_type": "code",
   "execution_count": 56,
   "metadata": {},
   "outputs": [
    {
     "data": {
      "text/plain": [
       "3396"
      ]
     },
     "execution_count": 56,
     "metadata": {},
     "output_type": "execute_result"
    }
   ],
   "source": [
    "training_data_len = int(np.ceil( len(close) * .8 ))\n",
    "\n",
    "training_data_len"
   ]
  },
  {
   "cell_type": "markdown",
   "metadata": {},
   "source": [
    "### Feature Scalling"
   ]
  },
  {
   "cell_type": "code",
   "execution_count": 57,
   "metadata": {},
   "outputs": [],
   "source": [
    "close = close.reshape(-1, 1)"
   ]
  },
  {
   "cell_type": "code",
   "execution_count": 58,
   "metadata": {},
   "outputs": [
    {
     "data": {
      "text/plain": [
       "array([[0.00000000e+00],\n",
       "       [3.48796652e-04],\n",
       "       [3.48796652e-04],\n",
       "       ...,\n",
       "       [8.14440181e-01],\n",
       "       [8.15137775e-01],\n",
       "       [8.36065574e-01]])"
      ]
     },
     "execution_count": 58,
     "metadata": {},
     "output_type": "execute_result"
    }
   ],
   "source": [
    "from sklearn.preprocessing import MinMaxScaler\n",
    "\n",
    "scaler = MinMaxScaler(feature_range=(0,1))\n",
    "scaled_close = scaler.fit_transform(close)\n",
    "\n",
    "scaled_close"
   ]
  },
  {
   "cell_type": "markdown",
   "metadata": {},
   "source": [
    "### Split the Data Into x_train and y_train"
   ]
  },
  {
   "cell_type": "code",
   "execution_count": 59,
   "metadata": {},
   "outputs": [
    {
     "name": "stdout",
     "output_type": "stream",
     "text": [
      "[array([0.        , 0.0003488 , 0.0003488 , 0.0003488 , 0.        ,\n",
      "       0.00069759, 0.0003488 , 0.        , 0.        , 0.        ,\n",
      "       0.        , 0.0003488 , 0.0003488 , 0.00069759, 0.00069759,\n",
      "       0.00104639, 0.00139519, 0.        , 0.0003488 , 0.0003488 ,\n",
      "       0.00139519, 0.00139519, 0.00139519, 0.00174398, 0.00174398,\n",
      "       0.00209278, 0.00139519, 0.00139519, 0.00174398, 0.00174398,\n",
      "       0.00174398, 0.00174398, 0.00174398, 0.00174398, 0.00139519,\n",
      "       0.00139519, 0.00139519, 0.00139519, 0.00139519, 0.00104639,\n",
      "       0.00139519, 0.00174398, 0.00174398, 0.00139519, 0.00069759,\n",
      "       0.00069759, 0.00104639, 0.00069759, 0.00069759, 0.0003488 ,\n",
      "       0.0003488 , 0.00104639, 0.00104639, 0.00069759, 0.00069759,\n",
      "       0.00069759, 0.0003488 , 0.0003488 , 0.00069759, 0.        ])]\n",
      "[0.000348796651552144]\n",
      "\n",
      "[array([0.        , 0.0003488 , 0.0003488 , 0.0003488 , 0.        ,\n",
      "       0.00069759, 0.0003488 , 0.        , 0.        , 0.        ,\n",
      "       0.        , 0.0003488 , 0.0003488 , 0.00069759, 0.00069759,\n",
      "       0.00104639, 0.00139519, 0.        , 0.0003488 , 0.0003488 ,\n",
      "       0.00139519, 0.00139519, 0.00139519, 0.00174398, 0.00174398,\n",
      "       0.00209278, 0.00139519, 0.00139519, 0.00174398, 0.00174398,\n",
      "       0.00174398, 0.00174398, 0.00174398, 0.00174398, 0.00139519,\n",
      "       0.00139519, 0.00139519, 0.00139519, 0.00139519, 0.00104639,\n",
      "       0.00139519, 0.00174398, 0.00174398, 0.00139519, 0.00069759,\n",
      "       0.00069759, 0.00104639, 0.00069759, 0.00069759, 0.0003488 ,\n",
      "       0.0003488 , 0.00104639, 0.00104639, 0.00069759, 0.00069759,\n",
      "       0.00069759, 0.0003488 , 0.0003488 , 0.00069759, 0.        ]), array([0.0003488 , 0.0003488 , 0.0003488 , 0.        , 0.00069759,\n",
      "       0.0003488 , 0.        , 0.        , 0.        , 0.        ,\n",
      "       0.0003488 , 0.0003488 , 0.00069759, 0.00069759, 0.00104639,\n",
      "       0.00139519, 0.        , 0.0003488 , 0.0003488 , 0.00139519,\n",
      "       0.00139519, 0.00139519, 0.00174398, 0.00174398, 0.00209278,\n",
      "       0.00139519, 0.00139519, 0.00174398, 0.00174398, 0.00174398,\n",
      "       0.00174398, 0.00174398, 0.00174398, 0.00139519, 0.00139519,\n",
      "       0.00139519, 0.00139519, 0.00139519, 0.00104639, 0.00139519,\n",
      "       0.00174398, 0.00174398, 0.00139519, 0.00069759, 0.00069759,\n",
      "       0.00104639, 0.00069759, 0.00069759, 0.0003488 , 0.0003488 ,\n",
      "       0.00104639, 0.00104639, 0.00069759, 0.00069759, 0.00069759,\n",
      "       0.0003488 , 0.0003488 , 0.00069759, 0.        , 0.0003488 ])]\n",
      "[0.000348796651552144, 0.0013951866062085795]\n",
      "\n"
     ]
    }
   ],
   "source": [
    "train_data = scaled_close[0:int(training_data_len), :]\n",
    "x_train = []\n",
    "y_train = []\n",
    "\n",
    "for i in range(60, len(train_data)):\n",
    "    x_train.append(train_data[i-60:i, 0])\n",
    "    y_train.append(train_data[i, 0])\n",
    "    if i<= 61:\n",
    "        print(x_train)\n",
    "        print(y_train)\n",
    "        print()\n",
    "        \n",
    "x_train, y_train = np.array(x_train), np.array(y_train)\n",
    "\n",
    "x_train = np.reshape(x_train, (x_train.shape[0], x_train.shape[1], 1))"
   ]
  },
  {
   "cell_type": "markdown",
   "metadata": {},
   "source": [
    "## Creating Model Architecture"
   ]
  },
  {
   "cell_type": "code",
   "execution_count": 60,
   "metadata": {},
   "outputs": [],
   "source": [
    "model = Sequential()\n",
    "model.add(LSTM(128, return_sequences=True, input_shape= (x_train.shape[1], 1)))\n",
    "model.add(LSTM(64, return_sequences=False))\n",
    "model.add(Dense(25))\n",
    "model.add(Dense(1))"
   ]
  },
  {
   "cell_type": "markdown",
   "metadata": {},
   "source": [
    "## Model Compiling"
   ]
  },
  {
   "cell_type": "code",
   "execution_count": 61,
   "metadata": {},
   "outputs": [],
   "source": [
    "adam = tf.keras.optimizers.Adam(learning_rate = 0.001)"
   ]
  },
  {
   "cell_type": "code",
   "execution_count": 62,
   "metadata": {},
   "outputs": [],
   "source": [
    "model.compile(optimizer = adam,\n",
    "              loss='mean_squared_error', \n",
    "              metrics=['mae'])"
   ]
  },
  {
   "cell_type": "code",
   "execution_count": 63,
   "metadata": {},
   "outputs": [
    {
     "name": "stdout",
     "output_type": "stream",
     "text": [
      "Model: \"sequential\"\n",
      "_________________________________________________________________\n",
      "Layer (type)                 Output Shape              Param #   \n",
      "=================================================================\n",
      "lstm (LSTM)                  (None, 60, 128)           66560     \n",
      "_________________________________________________________________\n",
      "lstm_1 (LSTM)                (None, 64)                49408     \n",
      "_________________________________________________________________\n",
      "dense (Dense)                (None, 25)                1625      \n",
      "_________________________________________________________________\n",
      "dense_1 (Dense)              (None, 1)                 26        \n",
      "=================================================================\n",
      "Total params: 117,619\n",
      "Trainable params: 117,619\n",
      "Non-trainable params: 0\n",
      "_________________________________________________________________\n"
     ]
    }
   ],
   "source": [
    "model.summary()"
   ]
  },
  {
   "cell_type": "markdown",
   "metadata": {},
   "source": [
    "## Defining Callback, Best Model Checkpoint, and Early Stopping (If Needed)"
   ]
  },
  {
   "cell_type": "code",
   "execution_count": 65,
   "metadata": {},
   "outputs": [],
   "source": [
    "filepath= \"BBCA_timeseries.h5\"\n",
    "checkpoint = ModelCheckpoint(filepath, \n",
    "                             monitor='mae', \n",
    "                             verbose=1, \n",
    "                             save_best_only=True, \n",
    "                             mode='max', \n",
    "                             save_weights_only=False)\n",
    "\n",
    "early_stopping = EarlyStopping(monitor='mae',\n",
    "                               min_delta = 0, \n",
    "                               patience = 5, \n",
    "                               verbose = 1, \n",
    "                               restore_best_weights=True)\n",
    "\n",
    "class myCallback(tf.keras.callbacks.Callback):\n",
    "  def on_epoch_end(self, epoch, logs={}):\n",
    "    if(logs.get('mae')<0.1):\n",
    "      print(\"\\nMAE telah mencapai <10%\")\n",
    "      self.model.stop_training = True\n",
    "callbacks = myCallback()\n",
    "\n",
    "callback_params = [checkpoint,\n",
    "                   early_stopping,\n",
    "                   callbacks]"
   ]
  },
  {
   "cell_type": "markdown",
   "metadata": {},
   "source": [
    "## Run the Model"
   ]
  },
  {
   "cell_type": "code",
   "execution_count": 66,
   "metadata": {},
   "outputs": [
    {
     "name": "stdout",
     "output_type": "stream",
     "text": [
      "Epoch 1/100\n",
      "3336/3336 [==============================] - 191s 56ms/step - loss: 2.8226e-04 - mae: 0.0110\n",
      "\n",
      "Epoch 00001: mae improved from -inf to 0.01103, saving model to BBCA_timeseries.h5\n",
      "\n",
      "MAE telah mencapai <10%\n"
     ]
    }
   ],
   "source": [
    "hist = model.fit(x_train, y_train, \n",
    "                 batch_size=1, \n",
    "                 epochs=100,\n",
    "                 callbacks=callback_params)"
   ]
  },
  {
   "cell_type": "code",
   "execution_count": 67,
   "metadata": {},
   "outputs": [],
   "source": [
    "best_model = tf.keras.models.load_model(\"BBCA_timeseries.h5\")"
   ]
  },
  {
   "cell_type": "markdown",
   "metadata": {},
   "source": [
    "## Loss and MAE Visualization"
   ]
  },
  {
   "cell_type": "code",
   "execution_count": 68,
   "metadata": {},
   "outputs": [
    {
     "data": {
      "image/png": "[encoded data removed]",
      "text/plain": [
       "<Figure size 432x288 with 1 Axes>"
      ]
     },
     "metadata": {
      "needs_background": "light"
     },
     "output_type": "display_data"
    }
   ],
   "source": [
    "plt.plot(hist.history['mae'])\n",
    "plt.title('MAE Model')\n",
    "plt.ylabel('MAE')\n",
    "plt.xlabel('Epoch')\n",
    "plt.legend(['MAE'], loc='lower right')\n",
    "plt.show()"
   ]
  },
  {
   "cell_type": "code",
   "execution_count": 69,
   "metadata": {},
   "outputs": [
    {
     "data": {
      "image/png": "[encoded data removed]",
      "text/plain": [
       "<Figure size 432x288 with 1 Axes>"
      ]
     },
     "metadata": {
      "needs_background": "light"
     },
     "output_type": "display_data"
    }
   ],
   "source": [
    "plt.plot(hist.history['loss'])\n",
    "plt.title('Loss Model')\n",
    "plt.ylabel('Loss')\n",
    "plt.xlabel('Epoch')\n",
    "plt.legend(['Loss'], loc='upper right')\n",
    "plt.show()"
   ]
  },
  {
   "cell_type": "markdown",
   "metadata": {},
   "source": [
    "There is no mae and loss visualization because the model already reached MAE<10% in 1 epoch"
   ]
  },
  {
   "cell_type": "code",
   "execution_count": null,
   "metadata": {},
   "outputs": [],
   "source": []
  }
 ],
 "metadata": {
  "kernelspec": {
   "display_name": "Python 3",
   "language": "python",
   "name": "python3"
  },
  "language_info": {
   "codemirror_mode": {
    "name": "ipython",
    "version": 3
   },
   "file_extension": ".py",
   "mimetype": "text/x-python",
   "name": "python",
   "nbconvert_exporter": "python",
   "pygments_lexer": "ipython3",
   "version": "3.8.5"
  }
 },
 "nbformat": 4,
 "nbformat_minor": 4
}
